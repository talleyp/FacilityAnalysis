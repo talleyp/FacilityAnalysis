{
 "cells": [
  {
   "cell_type": "code",
   "execution_count": null,
   "metadata": {
    "collapsed": true
   },
   "outputs": [],
   "source": [
    "function workFlow()\n",
    "    timeHorizon = 100\n",
    "    hoursDay = 0\n",
    "    \n",
    "    stationRate = 1\n",
    "    arrivalRate = 1\n",
    "    \n",
    "    unsortedInv = zeros(timeHorizon, 1)\n",
    "    sortedInv = zeros(timeHorizon, 1)\n",
    "    printerQInv = zeros(timeHorizon, 1)\n",
    "    tvQInv = zeros(timeHorizon, 1)\n",
    "    miscQInv = zeros(timeHorizon, 1)\n",
    "    beastQInv = zeros(timeHorizon, 1)\n",
    "    finishedInv = zeros(timeHorizon, 1)\n",
    "       \n",
    "    unsortedInv[1] = 1\n",
    "    sortedInv[1]  = 1\n",
    "    printerQInv[1] = 1\n",
    "    tvQInv[1] = 1\n",
    "    miscQInv[1] = 1\n",
    "    beastQInv[1] = 1\n",
    "    finishedInv[1] = 1\n",
    "    \n",
    "    for day = 1:(timeHorizon-1)\n",
    "        \n",
    "    end\n",
    "    \n",
    "end"
   ]
  }
 ],
 "metadata": {
  "kernelspec": {
   "display_name": "Julia 0.4.6",
   "language": "julia",
   "name": "julia-0.4"
  },
  "language_info": {
   "file_extension": ".jl",
   "mimetype": "application/julia",
   "name": "julia",
   "version": "0.4.7"
  }
 },
 "nbformat": 4,
 "nbformat_minor": 0
}
