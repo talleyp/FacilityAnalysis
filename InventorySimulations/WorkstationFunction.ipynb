{
 "cells": [
  {
   "cell_type": "code",
   "execution_count": 1,
   "metadata": {
    "collapsed": false
   },
   "outputs": [
    {
     "data": {
      "text/plain": [
       "workInv (generic function with 1 method)"
      ]
     },
     "execution_count": 1,
     "metadata": {},
     "output_type": "execute_result"
    }
   ],
   "source": [
    "function workInv()\n",
    "    timeHorizon = 1000\n",
    "    stationRate = 1\n",
    "    arrivalRate = 1\n",
    "    \n",
    "    waitingInv = zeros(timeHorizon, 1)\n",
    "    finishedInv = zeros(timeHorizon, 1)\n",
    "    startingInv = 1\n",
    "    \n",
    "    waitingInv[1] = startingInv\n",
    "    \n",
    "    for step = 1:(timeHorizon-1)\n",
    "        waitingInv[step:end] += arrivalRate\n",
    "        production = min(waitingInv[step], stationRate) \n",
    "        finishedInv[(step+1):end] += production\n",
    "    end\n",
    "    \n",
    "end"
   ]
  },
  {
   "cell_type": "code",
   "execution_count": null,
   "metadata": {
    "collapsed": true
   },
   "outputs": [],
   "source": []
  }
 ],
 "metadata": {
  "kernelspec": {
   "display_name": "Julia 0.4.6",
   "language": "julia",
   "name": "julia-0.4"
  },
  "language_info": {
   "file_extension": ".jl",
   "mimetype": "application/julia",
   "name": "julia",
   "version": "0.4.7"
  }
 },
 "nbformat": 4,
 "nbformat_minor": 0
}
