{
 "cells": [
  {
   "cell_type": "code",
   "execution_count": 12,
   "metadata": {
    "collapsed": true
   },
   "outputs": [],
   "source": [
    "using Plots, GLM, RDatasets\n",
    ";"
   ]
  },
  {
   "cell_type": "code",
   "execution_count": 2,
   "metadata": {
    "collapsed": true
   },
   "outputs": [],
   "source": [
    "function holding_cost(x,y,factor) \n",
    "    return -1*factor*(div(x,y)+1)\n",
    "end\n",
    "\n",
    "function shipping_cost(x,y)\n",
    "    shipping_factor = 1\n",
    "    return -1*shipping_factor*(div(x,y)+1)\n",
    "end\n",
    "\n",
    "function pre_process_cost(x,t,hFactor,P0)\n",
    "    ## Cost to materials, and normalized by weight\n",
    "    # [$/lb]\n",
    "    m = -0.07 # manual demanufacturing \n",
    "    s = -0.04 # shredding \n",
    "    f = -0.03 # metal finder \n",
    "\n",
    "    ## Price to sell for TV's\n",
    "    # price per pound multiplied by percentage of TV unit is\n",
    "    stl     = 0.06 * 0.0299 \n",
    "    brds2   = 0.35 * 0.0699\n",
    "    wre      = 0.46 * 0.0099\n",
    "    ptc   = 0.07 * 0.0599\n",
    "    cne     = 0.42 * 0.0249\n",
    "    dwr     = 0.65 * 0.0099\n",
    "    pcpr   = 0.08 * 0.0240\n",
    "    palm     = 0.45 * 0.0019\n",
    "    tube      = 0.06 * 0.1499\n",
    "    ldgls = -0.13 * 0.62\n",
    "    selling_price = sum([stl brds2 wre ptc cne dwr pcpr palm tube ldgls])\n",
    "    \n",
    "    cost = x*(P0+m+s+f+selling_price) + \n",
    "            t*holding_cost(x,451,hFactor) + shipping_cost(x,21600)\n",
    "    return  cost\n",
    "end\n",
    "\n",
    "function post_process_cost(x, proccess_t, t,hFactor,P0)\n",
    "    orig_weight = x/0.62\n",
    "    accum_cost = pre_process_cost(orig_weight, proccess_t, hFactor,P0)\n",
    "    \n",
    "    return t*holding_cost(x,451,hFactor) + accum_cost\n",
    "end\n",
    ";"
   ]
  },
  {
   "cell_type": "code",
   "execution_count": 3,
   "metadata": {
    "collapsed": true
   },
   "outputs": [],
   "source": [
    "price=0.05:0.05:1.5\n",
    "n = length(price)\n",
    "\n",
    "zero_no = zeros(n,1)\n",
    "zero_full = zeros(n,1)\n",
    "zero_king = zeros(n,1)\n",
    "\n",
    "prod = 5\n",
    "\n",
    "h_no = 5.93\n",
    "h_full = 1.53\n",
    "h_king = 1.20\n",
    "\n",
    "weight = 50*450\n",
    "\n",
    "for i=1:n\n",
    "    zero_no[i] = pre_process_cost(weight, prod,  h_no, price[i])/\n",
    "        (h_no*div(0.62*weight,451)) + prod\n",
    "    zero_full[i] = pre_process_cost(weight, prod, h_full, price[i])/\n",
    "        (h_full*div(0.62*weight,451)) + prod\n",
    "    zero_king[i] = pre_process_cost(weight, prod, h_king, price[i])/\n",
    "        (h_king*div(0.62*weight,451)) + prod\n",
    "end\n"
   ]
  },
  {
   "cell_type": "code",
   "execution_count": 16,
   "metadata": {
    "collapsed": false
   },
   "outputs": [
    {
     "data": {
      "text/html": [
       "<script src=\"/home/renge/.julia/v0.5/Plots/src/backends/../../deps/plotly-latest.min.js\"></script>    <div id=\"5d0ca5a9-299b-482f-bc97-7b8cac4d2752\" style=\"width:600px;height:400px;\"></div>\n",
       "    <script>\n",
       "    PLOT = document.getElementById('5d0ca5a9-299b-482f-bc97-7b8cac4d2752');\n",
       "    Plotly.plot(PLOT, [{\"yaxis\":\"y\",\"y\":[-16.86885890949972,-10.545081506464308,-4.221304103428896,2.1024732996065194,8.426250702641934,14.750028105677345,21.073805508712756,27.397582911748174,33.721360314783595,40.045137717819,46.368915120854425,52.692692523889846,59.01646992692525,65.34024732996065,71.66402473299607,77.98780213603148,84.31157953906691,90.63535694210233,96.95913434513773,103.28291174817313,109.60668915120856,115.93046655424396,122.25424395727936,128.57802136031478,134.9017987633502,141.22557616638562,147.54935356942104,153.87313097245644,160.19690837549186,166.52068577852728],\"showlegend\":true,\"name\":\"no change\",\"type\":\"scatter\",\"xaxis\":\"x\",\"line\":{\"width\":1,\"dash\":\"solid\",\"color\":\"rgba(0, 154, 250, 1.000)\",\"shape\":\"linear\"},\"x\":[0.05,0.1,0.15,0.2,0.25,0.3,0.35,0.4,0.45,0.5,0.55,0.6,0.65,0.7,0.75,0.8,0.85,0.9,0.95,1.0],\"mode\":\"lines\"},{\"yaxis\":\"y\",\"y\":[-55.794553376906315,-31.28474945533769,-6.774945533769072,17.734858387799562,42.24466230936819,66.7544662309368,91.26427015250542,115.77407407407408,140.28387799564274,164.79368191721133,189.30348583877998,213.81328976034865,238.32309368191724,262.8328976034858,287.34270152505445,311.85250544662307,336.36230936819175,360.8721132897604,385.381917211329,409.8917211328976,434.4015250544662,458.91132897603484,483.4211328976034,507.93093681917213,532.4407407407407,556.9505446623093,581.460348583878,605.9701525054465,630.4799564270153,654.9897603485839],\"showlegend\":true,\"name\":\"team change\",\"type\":\"scatter\",\"xaxis\":\"x\",\"line\":{\"width\":1,\"dash\":\"solid\",\"color\":\"rgba(227, 111, 71, 1.000)\",\"shape\":\"linear\"},\"x\":[0.05,0.1,0.15,0.2,0.25,0.3,0.35,0.4,0.45,0.5,0.55,0.6,0.65,0.7,0.75,0.8,0.85,0.9,0.95,1.0],\"mode\":\"lines\"},{\"yaxis\":\"y\",\"y\":[-70.22138888888888,-38.97138888888889,-7.7213888888888995,23.528611111111108,54.778611111111104,86.02861111111109,117.27861111111108,148.5286111111111,179.77861111111116,211.0286111111111,242.27861111111113,273.52861111111116,304.7786111111111,336.02861111111105,367.2786111111111,398.5286111111111,429.7786111111111,461.02861111111116,492.2786111111111,523.5286111111111,554.7786111111111,586.0286111111111,617.278611111111,648.5286111111111,679.7786111111111,711.0286111111111,742.2786111111111,773.528611111111,804.7786111111111,836.0286111111111],\"showlegend\":true,\"name\":\"King's change\",\"type\":\"scatter\",\"xaxis\":\"x\",\"line\":{\"width\":1,\"dash\":\"solid\",\"color\":\"rgba(62, 164, 78, 1.000)\",\"shape\":\"linear\"},\"x\":[0.05,0.1,0.15,0.2,0.25,0.3,0.35,0.4,0.45,0.5,0.55,0.6,0.65,0.7,0.75,0.8,0.85,0.9,0.95,1.0],\"mode\":\"lines\"},{\"yaxis\":\"y\",\"y\":[0],\"showlegend\":true,\"name\":\"Minimum price for profit 0.17\",\"type\":\"scatter\",\"xaxis\":\"x\",\"x\":[0.175],\"mode\":\"markers\",\"marker\":{\"symbol\":\"circle\",\"line\":{\"width\":1,\"color\":\"rgba(0, 0, 0, 1.000)\"},\"size\":8,\"color\":\"rgba(195, 113, 210, 1.000)\"}}], {\"yaxis\":{\"type\":\"-\",\"titlefont\":{\"size\":15,\"color\":\"rgba(0, 0, 0, 1.000)\",\"family\":\"Helvetica\"},\"title\":\"Days\",\"tickfont\":{\"size\":11,\"color\":\"rgba(0, 0, 0, 1.000)\",\"family\":\"Helvetica\"},\"ticks\":\"inside\",\"tickmode\":\"array\",\"showgrid\":true,\"tickvals\":[0.0,200.0,400.0,600.0,800.0],\"domain\":[0.07581474190726165,0.9415463692038496],\"ticktext\":[\"0\",\"200\",\"400\",\"600\",\"800\"],\"tickangle\":0,\"zeroline\":false,\"linecolor\":\"rgba(0, 0, 0, 1.000)\",\"tickcolor\":\"rgba(0, 0, 0, 1.000)\",\"anchor\":\"x\"},\"annotations\":[{\"text\":\"Price vs Zero-Time\",\"y\":1.0,\"xref\":\"paper\",\"font\":{\"size\":20,\"color\":\"rgba(0, 0, 0, 1.000)\",\"family\":\"Helvetica\"},\"xanchor\":\"center\",\"x\":0.5349537037037038,\"yref\":\"paper\",\"showarrow\":false,\"yanchor\":\"top\",\"rotation\":-0.0}],\"width\":600,\"plot_bgcolor\":\"rgba(255, 255, 255, 1.000)\",\"showlegend\":true,\"legend\":{\"bgcolor\":\"rgba(255, 255, 255, 1.000)\",\"y\":1.0,\"font\":{\"size\":11,\"color\":\"rgba(0, 0, 0, 1.000)\",\"family\":\"Helvetica\"},\"bordercolor\":\"rgba(0, 0, 0, 1.000)\",\"x\":1.0},\"xaxis\":{\"type\":\"-\",\"titlefont\":{\"size\":15,\"color\":\"rgba(0, 0, 0, 1.000)\",\"family\":\"Helvetica\"},\"title\":\"Price\",\"tickfont\":{\"size\":11,\"color\":\"rgba(0, 0, 0, 1.000)\",\"family\":\"Helvetica\"},\"ticks\":\"inside\",\"tickmode\":\"array\",\"showgrid\":true,\"tickvals\":[0.2,0.4,0.6000000000000001,0.8,1.0],\"domain\":[0.07646908719743364,0.9934383202099737],\"ticktext\":[\"0.2\",\"0.4\",\"0.6\",\"0.8\",\"1.0\"],\"tickangle\":0,\"zeroline\":false,\"linecolor\":\"rgba(0, 0, 0, 1.000)\",\"tickcolor\":\"rgba(0, 0, 0, 1.000)\",\"anchor\":\"y\"},\"paper_bgcolor\":\"rgba(255, 255, 255, 1.000)\",\"height\":400,\"margin\":{\"r\":0,\"l\":0,\"b\":0,\"t\":20}});\n",
       "    </script>\n"
      ]
     },
     "execution_count": 16,
     "metadata": {},
     "output_type": "execute_result"
    }
   ],
   "source": [
    "plot(price,zero_no,label=\"no change\",title=\"Price vs Zero-Time\",\n",
    "    xlab=\"Price\",ylab=\"Days\")\n",
    "plot!(price,zero_full,label=\"team change\")\n",
    "plot!(price,zero_king,label=\"King's change\")\n",
    "scatter!([0.175],[0], label=\"Minimum price for profit 0.17\")"
   ]
  },
  {
   "cell_type": "code",
   "execution_count": 5,
   "metadata": {
    "collapsed": true
   },
   "outputs": [],
   "source": [
    "price=0.05:0.05:1.0\n",
    "n = length(price)\n",
    "\n",
    "no_cost180 = zeros(n,1)\n",
    "full_cost180 = zeros(n,1)\n",
    "king_cost180 = zeros(n,1)\n",
    "\n",
    "prod = 5\n",
    "\n",
    "h_no = 5.93\n",
    "h_full = 1.53\n",
    "h_king = 1.20\n",
    "\n",
    "weight = 50*450\n",
    "\n",
    "for i=1:n\n",
    "    no_cost180[i] = pre_process_cost(weight, prod,  h_no, price[i]) + \n",
    "                    post_process_cost(weight*.62, prod, 180, h_no, price[i])\n",
    "    full_cost180[i] = pre_process_cost(weight, prod, h_full, price[i]) + \n",
    "                      post_process_cost(weight*.62, prod, 180, h_full, price[i])\n",
    "    king_cost180[i] = pre_process_cost(weight, prod, h_king, price[i]) +  \n",
    "                      post_process_cost(weight*.62, prod, 180, h_king, price[i])\n",
    "end"
   ]
  },
  {
   "cell_type": "code",
   "execution_count": 6,
   "metadata": {
    "collapsed": false
   },
   "outputs": [
    {
     "data": {
      "text/html": [
       "<script src=\"/home/renge/.julia/v0.5/Plots/src/backends/../../deps/plotly-latest.min.js\"></script>    <div id=\"a00fa8b9-bfa4-4970-98e8-dc654d68a8da\" style=\"width:600px;height:400px;\"></div>\n",
       "    <script>\n",
       "    PLOT = document.getElementById('a00fa8b9-bfa4-4970-98e8-dc654d68a8da');\n",
       "    Plotly.plot(PLOT, [{\"yaxis\":\"y\",\"y\":[-40870.34,-38620.34,-36370.34,-34120.34,-31870.339999999997,-29620.339999999997,-27370.339999999997,-25120.339999999997,-22870.33999999999,-20620.339999999997,-18370.339999999997,-16120.33999999999,-13870.339999999995,-11620.339999999998,-9370.339999999997,-7120.3399999999965,-4870.339999999995,-2620.3399999999892,-370.3399999999965,1879.6600000000035],\"showlegend\":true,\"name\":\"no change\",\"type\":\"scatter\",\"xaxis\":\"x\",\"line\":{\"width\":1,\"dash\":\"solid\",\"color\":\"rgba(0, 154, 250, 1.000)\",\"shape\":\"linear\"},\"x\":[0.05,0.1,0.15,0.2,0.25,0.3,0.35,0.4,0.45,0.5,0.55,0.6,0.65,0.7,0.75,0.8,0.85,0.9,0.95,1.0],\"mode\":\"lines\"},{\"yaxis\":\"y\",\"y\":[-14118.339999999998,-11868.339999999998,-9618.340000000002,-7368.34,-5118.34,-2868.3400000000015,-618.340000000002,1631.6599999999999,3881.6600000000035,6131.66,8381.660000000002,10631.660000000005,12881.660000000002,15131.659999999994,17381.659999999996,19631.659999999996,21881.660000000003,24131.660000000003,26381.659999999996,28631.659999999996],\"showlegend\":true,\"name\":\"team change\",\"type\":\"scatter\",\"xaxis\":\"x\",\"line\":{\"width\":1,\"dash\":\"solid\",\"color\":\"rgba(227, 111, 71, 1.000)\",\"shape\":\"linear\"},\"x\":[0.05,0.1,0.15,0.2,0.25,0.3,0.35,0.4,0.45,0.5,0.55,0.6,0.65,0.7,0.75,0.8,0.85,0.9,0.95,1.0],\"mode\":\"lines\"},{\"yaxis\":\"y\",\"y\":[-12111.939999999999,-9861.939999999999,-7611.94,-5361.94,-3111.9399999999996,-861.9400000000005,1388.0599999999986,3638.0600000000004,5888.060000000004,8138.06,10388.060000000001,12638.060000000005,14888.060000000001,17138.059999999994,19388.059999999998,21638.059999999998,23888.060000000005,26138.060000000005,28388.059999999998,30638.059999999998],\"showlegend\":true,\"name\":\"King's change\",\"type\":\"scatter\",\"xaxis\":\"x\",\"line\":{\"width\":1,\"dash\":\"solid\",\"color\":\"rgba(62, 164, 78, 1.000)\",\"shape\":\"linear\"},\"x\":[0.05,0.1,0.15,0.2,0.25,0.3,0.35,0.4,0.45,0.5,0.55,0.6,0.65,0.7,0.75,0.8,0.85,0.9,0.95,1.0],\"mode\":\"lines\"},{\"yaxis\":\"y\",\"y\":[-9861.939999999999],\"showlegend\":true,\"name\":\"10cent, profit = -9861\",\"type\":\"scatter\",\"xaxis\":\"x\",\"x\":[0.1],\"mode\":\"markers\",\"marker\":{\"symbol\":\"circle\",\"line\":{\"width\":1,\"color\":\"rgba(0, 0, 0, 1.000)\"},\"size\":8,\"color\":\"rgba(195, 113, 210, 1.000)\"}},{\"yaxis\":\"y\",\"y\":[38],\"showlegend\":true,\"name\":\"32cent, profit=38\",\"type\":\"scatter\",\"xaxis\":\"x\",\"x\":[0.32],\"mode\":\"markers\",\"marker\":{\"symbol\":\"circle\",\"line\":{\"width\":1,\"color\":\"rgba(0, 0, 0, 1.000)\"},\"size\":8,\"color\":\"rgba(172, 142, 24, 1.000)\"}}], {\"yaxis\":{\"type\":\"-\",\"titlefont\":{\"size\":15,\"color\":\"rgba(0, 0, 0, 1.000)\",\"family\":\"Helvetica\"},\"title\":\"Profit\",\"tickfont\":{\"size\":11,\"color\":\"rgba(0, 0, 0, 1.000)\",\"family\":\"Helvetica\"},\"ticks\":\"inside\",\"tickmode\":\"array\",\"showgrid\":true,\"tickvals\":[-25000.0,0.0,25000.0],\"domain\":[0.07581474190726165,0.9415463692038496],\"ticktext\":[\"-25000\",\"0\",\"25000\"],\"tickangle\":0,\"zeroline\":false,\"linecolor\":\"rgba(0, 0, 0, 1.000)\",\"tickcolor\":\"rgba(0, 0, 0, 1.000)\",\"anchor\":\"x\"},\"annotations\":[{\"text\":\"Price vs Profit at 6 months\",\"y\":1.0,\"xref\":\"paper\",\"font\":{\"size\":20,\"color\":\"rgba(0, 0, 0, 1.000)\",\"family\":\"Helvetica\"},\"xanchor\":\"center\",\"x\":0.5571759259259259,\"yref\":\"paper\",\"showarrow\":false,\"yanchor\":\"top\",\"rotation\":-0.0}],\"width\":600,\"plot_bgcolor\":\"rgba(255, 255, 255, 1.000)\",\"showlegend\":true,\"legend\":{\"bgcolor\":\"rgba(255, 255, 255, 1.000)\",\"y\":1.0,\"font\":{\"size\":11,\"color\":\"rgba(0, 0, 0, 1.000)\",\"family\":\"Helvetica\"},\"bordercolor\":\"rgba(0, 0, 0, 1.000)\",\"x\":1.0},\"xaxis\":{\"type\":\"-\",\"titlefont\":{\"size\":15,\"color\":\"rgba(0, 0, 0, 1.000)\",\"family\":\"Helvetica\"},\"title\":\"Price\",\"tickfont\":{\"size\":11,\"color\":\"rgba(0, 0, 0, 1.000)\",\"family\":\"Helvetica\"},\"ticks\":\"inside\",\"tickmode\":\"array\",\"showgrid\":true,\"tickvals\":[0.2,0.4,0.6000000000000001,0.8,1.0],\"domain\":[0.1209135316418781,0.9934383202099738],\"ticktext\":[\"0.2\",\"0.4\",\"0.6\",\"0.8\",\"1.0\"],\"tickangle\":0,\"zeroline\":false,\"linecolor\":\"rgba(0, 0, 0, 1.000)\",\"tickcolor\":\"rgba(0, 0, 0, 1.000)\",\"anchor\":\"y\"},\"paper_bgcolor\":\"rgba(255, 255, 255, 1.000)\",\"height\":400,\"margin\":{\"r\":0,\"l\":0,\"b\":0,\"t\":20}});\n",
       "    </script>\n"
      ]
     },
     "execution_count": 6,
     "metadata": {},
     "output_type": "execute_result"
    }
   ],
   "source": [
    "plot(price,no_cost180,label=\"no change\",title=\"Price vs Profit at 6 months\",xlab=\"Price\",ylab=\"Profit\")\n",
    "plot!(price,full_cost180,label=\"team change\")\n",
    "plot!(price,king_cost180,label=\"King's change\")\n",
    "scatter!([0.1],[king_cost180[2]], label=\"10cent, profit = -9861\")\n",
    "scatter!([.32],[38],label=\"32cent, profit=38\")"
   ]
  },
  {
   "cell_type": "code",
   "execution_count": 7,
   "metadata": {
    "collapsed": true
   },
   "outputs": [],
   "source": [
    "price=0.05:0.05:1.0\n",
    "n = length(price)\n",
    "\n",
    "no_cost120 = zeros(n,1)\n",
    "full_cost120 = zeros(n,1)\n",
    "king_cost120 = zeros(n,1)\n",
    "\n",
    "prod = 5\n",
    "\n",
    "h_no = 5.93\n",
    "h_full = 1.53\n",
    "h_king = 1.20\n",
    "\n",
    "weight = 50*450\n",
    "\n",
    "for i=1:n\n",
    "    no_cost120[i] = pre_process_cost(weight, prod,  h_no, price[i]) + \n",
    "                    post_process_cost(weight*.62, prod, 120, h_no, price[i])\n",
    "    full_cost120[i] = pre_process_cost(weight, prod, h_full, price[i]) + \n",
    "                      post_process_cost(weight*.62, prod, 120, h_full, price[i])\n",
    "    king_cost120[i] = pre_process_cost(weight, prod, h_king, price[i]) +  \n",
    "                      post_process_cost(weight*.62, prod, 120, h_king, price[i])\n",
    "end"
   ]
  },
  {
   "cell_type": "code",
   "execution_count": 8,
   "metadata": {
    "collapsed": false
   },
   "outputs": [
    {
     "data": {
      "text/html": [
       "<script src=\"/home/renge/.julia/v0.5/Plots/src/backends/../../deps/plotly-latest.min.js\"></script>    <div id=\"cfe728b6-9dcd-4056-85f3-432cbc3a37fc\" style=\"width:600px;height:400px;\"></div>\n",
       "    <script>\n",
       "    PLOT = document.getElementById('cfe728b6-9dcd-4056-85f3-432cbc3a37fc');\n",
       "    Plotly.plot(PLOT, [{\"yaxis\":\"y\",\"y\":[-29840.54,-27590.54,-25340.54,-23090.54,-20840.54,-18590.54,-16340.54,-14090.54,-11840.539999999994,-9590.54,-7340.539999999997,-5090.539999999994,-2840.5399999999972,-590.5400000000045,1659.4599999999991,3909.459999999999,6159.460000000003,8409.460000000006,10659.46,12909.46],\"showlegend\":true,\"name\":\"no change\",\"type\":\"scatter\",\"xaxis\":\"x\",\"line\":{\"width\":1,\"dash\":\"solid\",\"color\":\"rgba(0, 154, 250, 1.000)\",\"shape\":\"linear\"},\"x\":[0.05,0.1,0.15,0.2,0.25,0.3,0.35,0.4,0.45,0.5,0.55,0.6,0.65,0.7,0.75,0.8,0.85,0.9,0.95,1.0],\"mode\":\"lines\"},{\"yaxis\":\"y\",\"y\":[-11272.539999999999,-9022.54,-6772.540000000001,-4522.540000000001,-2272.540000000001,-22.540000000001783,2227.4599999999973,4477.459999999999,6727.460000000003,8977.46,11227.460000000001,13477.460000000005,15727.460000000001,17977.459999999992,20227.46,22477.46,24727.46,26977.460000000006,29227.46,31477.46],\"showlegend\":true,\"name\":\"team change\",\"type\":\"scatter\",\"xaxis\":\"x\",\"line\":{\"width\":1,\"dash\":\"solid\",\"color\":\"rgba(227, 111, 71, 1.000)\",\"shape\":\"linear\"},\"x\":[0.05,0.1,0.15,0.2,0.25,0.3,0.35,0.4,0.45,0.5,0.55,0.6,0.65,0.7,0.75,0.8,0.85,0.9,0.95,1.0],\"mode\":\"lines\"},{\"yaxis\":\"y\",\"y\":[-9879.939999999999,-7629.94,-5379.94,-3129.9399999999996,-879.9399999999996,1370.0599999999995,3620.0599999999986,5870.06,8120.060000000004,10370.060000000001,12620.060000000001,14870.060000000005,17120.06,19370.059999999994,21620.059999999998,23870.059999999998,26120.060000000005,28370.060000000005,30620.059999999998,32870.06],\"showlegend\":true,\"name\":\"King's change\",\"type\":\"scatter\",\"xaxis\":\"x\",\"line\":{\"width\":1,\"dash\":\"solid\",\"color\":\"rgba(62, 164, 78, 1.000)\",\"shape\":\"linear\"},\"x\":[0.05,0.1,0.15,0.2,0.25,0.3,0.35,0.4,0.45,0.5,0.55,0.6,0.65,0.7,0.75,0.8,0.85,0.9,0.95,1.0],\"mode\":\"lines\"},{\"yaxis\":\"y\",\"y\":[-7629.94],\"showlegend\":true,\"name\":\"10cent, profit = -7629\",\"type\":\"scatter\",\"xaxis\":\"x\",\"x\":[0.1],\"mode\":\"markers\",\"marker\":{\"symbol\":\"circle\",\"line\":{\"width\":1,\"color\":\"rgba(0, 0, 0, 1.000)\"},\"size\":8,\"color\":\"rgba(195, 113, 210, 1.000)\"}},{\"yaxis\":\"y\",\"y\":[20],\"showlegend\":true,\"name\":\"27cent, profit=20\",\"type\":\"scatter\",\"xaxis\":\"x\",\"x\":[0.27],\"mode\":\"markers\",\"marker\":{\"symbol\":\"circle\",\"line\":{\"width\":1,\"color\":\"rgba(0, 0, 0, 1.000)\"},\"size\":8,\"color\":\"rgba(172, 142, 24, 1.000)\"}}], {\"yaxis\":{\"type\":\"-\",\"titlefont\":{\"size\":15,\"color\":\"rgba(0, 0, 0, 1.000)\",\"family\":\"Helvetica\"},\"title\":\"Profit\",\"tickfont\":{\"size\":11,\"color\":\"rgba(0, 0, 0, 1.000)\",\"family\":\"Helvetica\"},\"ticks\":\"inside\",\"tickmode\":\"array\",\"showgrid\":true,\"tickvals\":[-20000.0,0.0,20000.0],\"domain\":[0.07581474190726165,0.9415463692038496],\"ticktext\":[\"-20000\",\"0\",\"20000\"],\"tickangle\":0,\"zeroline\":false,\"linecolor\":\"rgba(0, 0, 0, 1.000)\",\"tickcolor\":\"rgba(0, 0, 0, 1.000)\",\"anchor\":\"x\"},\"annotations\":[{\"text\":\"Price vs Profit at 4 months\",\"y\":1.0,\"xref\":\"paper\",\"font\":{\"size\":20,\"color\":\"rgba(0, 0, 0, 1.000)\",\"family\":\"Helvetica\"},\"xanchor\":\"center\",\"x\":0.5571759259259259,\"yref\":\"paper\",\"showarrow\":false,\"yanchor\":\"top\",\"rotation\":-0.0}],\"width\":600,\"plot_bgcolor\":\"rgba(255, 255, 255, 1.000)\",\"showlegend\":true,\"legend\":{\"bgcolor\":\"rgba(255, 255, 255, 1.000)\",\"y\":1.0,\"font\":{\"size\":11,\"color\":\"rgba(0, 0, 0, 1.000)\",\"family\":\"Helvetica\"},\"bordercolor\":\"rgba(0, 0, 0, 1.000)\",\"x\":1.0},\"xaxis\":{\"type\":\"-\",\"titlefont\":{\"size\":15,\"color\":\"rgba(0, 0, 0, 1.000)\",\"family\":\"Helvetica\"},\"title\":\"Price\",\"tickfont\":{\"size\":11,\"color\":\"rgba(0, 0, 0, 1.000)\",\"family\":\"Helvetica\"},\"ticks\":\"inside\",\"tickmode\":\"array\",\"showgrid\":true,\"tickvals\":[0.2,0.4,0.6000000000000001,0.8,1.0],\"domain\":[0.1209135316418781,0.9934383202099738],\"ticktext\":[\"0.2\",\"0.4\",\"0.6\",\"0.8\",\"1.0\"],\"tickangle\":0,\"zeroline\":false,\"linecolor\":\"rgba(0, 0, 0, 1.000)\",\"tickcolor\":\"rgba(0, 0, 0, 1.000)\",\"anchor\":\"y\"},\"paper_bgcolor\":\"rgba(255, 255, 255, 1.000)\",\"height\":400,\"margin\":{\"r\":0,\"l\":0,\"b\":0,\"t\":20}});\n",
       "    </script>\n"
      ]
     },
     "execution_count": 8,
     "metadata": {},
     "output_type": "execute_result"
    }
   ],
   "source": [
    "plot(price,no_cost120,label=\"no change\",title=\"Price vs Profit at 4 months\",\n",
    "    xlab=\"Price\",ylab=\"Profit\")\n",
    "plot!(price,full_cost120,label=\"team change\")\n",
    "plot!(price,king_cost120,label=\"King's change\")\n",
    "scatter!([0.1],[king_cost120[2]], label=\"10cent, profit = -7629\")\n",
    "scatter!([.27],[20],label=\"27cent, profit=20\")"
   ]
  },
  {
   "cell_type": "code",
   "execution_count": null,
   "metadata": {
    "collapsed": true
   },
   "outputs": [],
   "source": []
  },
  {
   "cell_type": "code",
   "execution_count": null,
   "metadata": {
    "collapsed": true
   },
   "outputs": [],
   "source": []
  }
 ],
 "metadata": {
  "kernelspec": {
   "display_name": "Julia 0.4.7",
   "language": "julia",
   "name": "julia-0.4"
  },
  "language_info": {
   "file_extension": ".jl",
   "mimetype": "application/julia",
   "name": "julia",
   "version": "0.5.0"
  }
 },
 "nbformat": 4,
 "nbformat_minor": 2
}
