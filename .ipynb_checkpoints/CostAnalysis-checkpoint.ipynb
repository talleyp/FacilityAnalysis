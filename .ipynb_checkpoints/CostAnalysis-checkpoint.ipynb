{
 "cells": [
  {
   "cell_type": "markdown",
   "metadata": {},
   "source": [
    "# Cost Analysis of a facility"
   ]
  },
  {
   "cell_type": "markdown",
   "metadata": {},
   "source": [
    "Cost is defined as $ c_{i,j} = \\sum_{(k,l)} \\sum_{p} \\frac{w_{p,(k,l)}}{d_{(i,j),(k,l)}} $ \n",
    "\n",
    "$w_{p,(k,l)} $ is the weight of a product to point $(k,l)$ \n",
    "\n",
    "$d_{(i,j),(k,l)}$ is the distance from $(i,j)$ to $(k,l)$\n",
    "\n",
    "To derive the weight, it will be calculated from product of relative volume, and CORELAP score"
   ]
  },
  {
   "cell_type": "code",
   "execution_count": 2,
   "metadata": {
    "collapsed": false
   },
   "outputs": [],
   "source": [
    "sf = 1 # Facility scaling factor\n",
    "## Create facility\n",
    "Wfacility = sum([205 233 208 206 71 265 265 281 286 282 289 289 288 285 276 395]) # width of facility [inches]\n",
    "Lfacility = sum([328 326 326 372 394 138]) # length of facility [inches]\n",
    "\n",
    "Wfacility = div(Wfacility, sf) # put in terms of scaling factor\n",
    "Lfacility = div(Lfacility, sf); "
   ]
  },
  {
   "cell_type": "code",
   "execution_count": 3,
   "metadata": {
    "collapsed": false
   },
   "outputs": [],
   "source": [
    "## Set areas that are important\n",
    "# Shredder\n",
    "shrdRow = div(148,sf)\n",
    "shrdCol = div(sum([205 233 208 206 71 265 265 281 286 282 289 288 285]), sf)\n",
    "shredder = [shrdRow shrdCol]\n",
    "\n",
    "# Bailer\n",
    "blRow = div(sum( [328,326,326,336/2] ), sf)\n",
    "blCol = div( sum([205 233 233 277 265 265 281 286 282 289] ), sf)\n",
    "bailer = [blRow blCol]\n",
    "\n",
    "# Omnisource\n",
    "omRow = Lfacility \n",
    "omCol = 1\n",
    "omnisource = [omRow omCol]\n",
    "\n",
    "# Printer Station\n",
    "prntRow = div( sum([328 326 326]), sf)\n",
    "prntCol = div( sum([205 233 233 277/2]), sf)\n",
    "printer = [prntRow prntCol]\n",
    "\n",
    "# TV Station\n",
    "tvRow = div( sum([328,326,326]), sf)\n",
    "tvCol = div( sum([205 233 233 277 265/2]), sf)\n",
    "tv = [tvRow, tvCol]\n",
    "\n",
    "# Misc Station\n",
    "miscRow = div( sum([328,326,326]), 46)\n",
    "miscCol = div( sum([205 233 233 277 265 265/2]), sf)\n",
    "misc = [miscRow miscCol];"
   ]
  },
  {
   "cell_type": "code",
   "execution_count": 4,
   "metadata": {
    "collapsed": false
   },
   "outputs": [
    {
     "data": {
      "text/plain": [
       "getdist (generic function with 1 method)"
      ]
     },
     "execution_count": 4,
     "metadata": {},
     "output_type": "execute_result"
    }
   ],
   "source": [
    "## Create Distance Matrices to important points\n",
    "function getdist(Lfacility, Wfacility, point)\n",
    "    distances = zeros(Lfacility, Wfacility)  \n",
    "    for j=1:Lfacility\n",
    "        for k=1:Wfacility\n",
    "            if j == point[1] && k == point[2]\n",
    "                distances[j,k] = 1\n",
    "            else\n",
    "                distances[j,k] = sqrt((point[1]-j)^2 + (point[2]-k)^2)\n",
    "            end\n",
    "        end\n",
    "    end\n",
    "    return distances\n",
    "end"
   ]
  },
  {
   "cell_type": "code",
   "execution_count": 5,
   "metadata": {
    "collapsed": false
   },
   "outputs": [],
   "source": [
    "shredDist = getdist(Lfacility, Wfacility, shredder)\n",
    "blDist = getdist(Lfacility, Wfacility, bailer)\n",
    "omniDist = getdist(Lfacility, Wfacility, omnisource)\n",
    "prntDist = getdist(Lfacility, Wfacility, printer)\n",
    "tvDist = getdist(Lfacility, Wfacility, tv)\n",
    "miscDist = getdist(Lfacility, Wfacility, misc)\n",
    ";"
   ]
  },
  {
   "cell_type": "markdown",
   "metadata": {},
   "source": [
    "At this point the weights will be calculated using the scores given by a CORELAP, the sum across the row. This will be multiplied by the weekly volume at these stations."
   ]
  },
  {
   "cell_type": "code",
   "execution_count": 6,
   "metadata": {
    "collapsed": false
   },
   "outputs": [],
   "source": [
    "# CORELAP Scores\n",
    "shredCOR = [6 6 6 6 5 5 6 5 2 2 0 6 5 4 4 4 2 4 2]\n",
    "blCOR =    [5 5 5 5 3 4 4 4 0 6 2 2 6 5 5 2 2 6 2]\n",
    "omniCOR =  [2 2 2 2 2 2 2 2 2 2 4 5 6 2 2 0 2 6 2]\n",
    "prntCOR =  [2 6 2 2 6 2 0 2 4 5 6 4 3 4 5 2 2 5 2]\n",
    "tvCOR =    [6 2 2 2 6 0 2 2 4 5 5 4 3 4 5 2 5 6 3]\n",
    "miscCOR =  [2 2 6 2 6 2 2 0 4 5 5 4 3 5 5 2 2 5 5]\n",
    "\n",
    "# Volume\n",
    "shredV = 300 * 500 # number of gaylords multiplied by average weight of a gaylord\n",
    "blV =    37 * 500 \n",
    "omniV =  300 * 500\n",
    "prntV =  55000\n",
    "tvV = prntV\n",
    "miscV =  10000\n",
    "totalV = sum([shredV, blV, omniV, prntV, tvV, miscV])\n",
    "\n",
    "# weights\n",
    "shredW = sum(shredCOR) * shredV#/totalV\n",
    "blW = sum(blCOR) * blV#/totalV\n",
    "omniW = sum(omniCOR) * omniV#/totalV\n",
    "prntW = sum(prntCOR) * prntV#/totalV\n",
    "tvW = sum(tvCOR) * tvV#/totalV\n",
    "miscW = sum(miscCOR) * miscV#/totalV\n",
    ";"
   ]
  },
  {
   "cell_type": "code",
   "execution_count": 7,
   "metadata": {
    "collapsed": false
   },
   "outputs": [],
   "source": [
    "cost = 1./shredDist .* shredW\n",
    "cost += 1./blDist .* blW\n",
    "cost += 1./omniDist .* omniW\n",
    "cost += 1./prntDist .* prntW\n",
    "cost += 1./tvDist .* tvW\n",
    "cost += 1./miscDist .* miscW\n",
    ";"
   ]
  },
  {
   "cell_type": "code",
   "execution_count": 8,
   "metadata": {
    "collapsed": false
   },
   "outputs": [],
   "source": [
    "using FileIO\n",
    "using Images\n",
    "using ImageMagick\n",
    "save(\"costsNotNormed.png\",grayim(cost/maximum(cost)))"
   ]
  },
  {
   "cell_type": "code",
   "execution_count": 21,
   "metadata": {
    "collapsed": false
   },
   "outputs": [],
   "source": [
    "using DataFrames\n",
    "writecsv(\"cost.csv\", cost)\n"
   ]
  }
 ],
 "metadata": {
  "kernelspec": {
   "display_name": "Julia 0.4.7",
   "language": "julia",
   "name": "julia-0.4"
  },
  "language_info": {
   "file_extension": ".jl",
   "mimetype": "application/julia",
   "name": "julia",
   "version": "0.4.7"
  }
 },
 "nbformat": 4,
 "nbformat_minor": 0
}
